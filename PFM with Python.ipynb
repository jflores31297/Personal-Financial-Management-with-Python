{
 "cells": [
  {
   "cell_type": "markdown",
   "id": "305b9fc0-4e29-4b36-8fee-5dae419e727e",
   "metadata": {},
   "source": [
    "# Import Libraries"
   ]
  },
  {
   "cell_type": "code",
   "execution_count": 1,
   "id": "0317e860-9c8d-49e2-8fd5-fb880da8eba0",
   "metadata": {},
   "outputs": [],
   "source": [
    "import pandas as pd\n",
    "from datetime import datetime\n",
    "import calendar"
   ]
  },
  {
   "cell_type": "markdown",
   "id": "28093630-e002-4121-b96f-0d006d1f57b4",
   "metadata": {},
   "source": [
    "# Define Your Monthly Budget:"
   ]
  },
  {
   "cell_type": "code",
   "execution_count": 6,
   "id": "7c499ceb-6cf2-45f5-bec7-f511a205cc88",
   "metadata": {},
   "outputs": [
    {
     "name": "stdout",
     "output_type": "stream",
     "text": [
      "Total Monthly Budget = 3900.0\n"
     ]
    },
    {
     "data": {
      "text/html": [
       "<div>\n",
       "<style scoped>\n",
       "    .dataframe tbody tr th:only-of-type {\n",
       "        vertical-align: middle;\n",
       "    }\n",
       "\n",
       "    .dataframe tbody tr th {\n",
       "        vertical-align: top;\n",
       "    }\n",
       "\n",
       "    .dataframe thead th {\n",
       "        text-align: right;\n",
       "    }\n",
       "</style>\n",
       "<table border=\"1\" class=\"dataframe\">\n",
       "  <thead>\n",
       "    <tr style=\"text-align: right;\">\n",
       "      <th></th>\n",
       "      <th>Category</th>\n",
       "      <th>BudgetAmount</th>\n",
       "    </tr>\n",
       "  </thead>\n",
       "  <tbody>\n",
       "    <tr>\n",
       "      <th>0</th>\n",
       "      <td>Food</td>\n",
       "      <td>400.0</td>\n",
       "    </tr>\n",
       "    <tr>\n",
       "      <th>1</th>\n",
       "      <td>Transportation</td>\n",
       "      <td>200.0</td>\n",
       "    </tr>\n",
       "    <tr>\n",
       "      <th>2</th>\n",
       "      <td>Miscellaneous</td>\n",
       "      <td>400.0</td>\n",
       "    </tr>\n",
       "    <tr>\n",
       "      <th>3</th>\n",
       "      <td>Health</td>\n",
       "      <td>200.0</td>\n",
       "    </tr>\n",
       "    <tr>\n",
       "      <th>4</th>\n",
       "      <td>Housing</td>\n",
       "      <td>1500.0</td>\n",
       "    </tr>\n",
       "    <tr>\n",
       "      <th>5</th>\n",
       "      <td>Savings</td>\n",
       "      <td>1200.0</td>\n",
       "    </tr>\n",
       "  </tbody>\n",
       "</table>\n",
       "</div>"
      ],
      "text/plain": [
       "         Category  BudgetAmount\n",
       "0            Food         400.0\n",
       "1  Transportation         200.0\n",
       "2   Miscellaneous         400.0\n",
       "3          Health         200.0\n",
       "4         Housing        1500.0\n",
       "5         Savings        1200.0"
      ]
     },
     "execution_count": 6,
     "metadata": {},
     "output_type": "execute_result"
    }
   ],
   "source": [
    "# Define the category and budget amount pairs\n",
    "budget_data = [\n",
    "    ('Food', 400.00),\n",
    "    ('Transportation', 200.00),\n",
    "    ('Miscellaneous', 400.00),\n",
    "    ('Health', 200.00),\n",
    "    ('Housing', 1500.00),\n",
    "    ('Savings', 1200.00)\n",
    "]\n",
    "\n",
    "# Create the DataFrame\n",
    "budget = pd.DataFrame(budget_data, columns=['Category', 'BudgetAmount'])\n",
    "\n",
    "#Calculate total monthly budget\n",
    "total_monthly_budget = round(budget['BudgetAmount'].sum(), 2)\n",
    "print('Total Monthly Budget =', total_monthly_budget)\n",
    "\n",
    "# Display the DataFrame\n",
    "budget\n"
   ]
  },
  {
   "cell_type": "markdown",
   "id": "9b4bd7ab-b1ab-4534-bded-09847d23624a",
   "metadata": {},
   "source": [
    "# Import Expenses CSV file"
   ]
  },
  {
   "cell_type": "code",
   "execution_count": 2,
   "id": "5c3a4fcc-e8ed-40c6-af3d-d4dacbc29582",
   "metadata": {},
   "outputs": [
    {
     "data": {
      "text/html": [
       "<div>\n",
       "<style scoped>\n",
       "    .dataframe tbody tr th:only-of-type {\n",
       "        vertical-align: middle;\n",
       "    }\n",
       "\n",
       "    .dataframe tbody tr th {\n",
       "        vertical-align: top;\n",
       "    }\n",
       "\n",
       "    .dataframe thead th {\n",
       "        text-align: right;\n",
       "    }\n",
       "</style>\n",
       "<table border=\"1\" class=\"dataframe\">\n",
       "  <thead>\n",
       "    <tr style=\"text-align: right;\">\n",
       "      <th></th>\n",
       "      <th>Date</th>\n",
       "      <th>Category</th>\n",
       "      <th>Notes</th>\n",
       "      <th>Amount</th>\n",
       "    </tr>\n",
       "  </thead>\n",
       "  <tbody>\n",
       "    <tr>\n",
       "      <th>0</th>\n",
       "      <td>2023-03-07</td>\n",
       "      <td>Food</td>\n",
       "      <td>BurgerBlitz</td>\n",
       "      <td>6.55</td>\n",
       "    </tr>\n",
       "    <tr>\n",
       "      <th>1</th>\n",
       "      <td>2023-04-04</td>\n",
       "      <td>Food</td>\n",
       "      <td>BurgerBlitz</td>\n",
       "      <td>6.95</td>\n",
       "    </tr>\n",
       "    <tr>\n",
       "      <th>2</th>\n",
       "      <td>2023-03-03</td>\n",
       "      <td>Food</td>\n",
       "      <td>BurgerBlitz</td>\n",
       "      <td>7.09</td>\n",
       "    </tr>\n",
       "    <tr>\n",
       "      <th>3</th>\n",
       "      <td>2023-01-06</td>\n",
       "      <td>Food</td>\n",
       "      <td>BurgerBlitz</td>\n",
       "      <td>7.54</td>\n",
       "    </tr>\n",
       "    <tr>\n",
       "      <th>4</th>\n",
       "      <td>2023-09-12</td>\n",
       "      <td>Food</td>\n",
       "      <td>DailyChoice Foods</td>\n",
       "      <td>7.72</td>\n",
       "    </tr>\n",
       "  </tbody>\n",
       "</table>\n",
       "</div>"
      ],
      "text/plain": [
       "        Date Category              Notes  Amount\n",
       "0 2023-03-07     Food        BurgerBlitz    6.55\n",
       "1 2023-04-04     Food        BurgerBlitz    6.95\n",
       "2 2023-03-03     Food        BurgerBlitz    7.09\n",
       "3 2023-01-06     Food        BurgerBlitz    7.54\n",
       "4 2023-09-12     Food  DailyChoice Foods    7.72"
      ]
     },
     "execution_count": 2,
     "metadata": {},
     "output_type": "execute_result"
    }
   ],
   "source": [
    "# Specify the file path\n",
    "file_path = \"/Users/juanflores/Documents/Fake Expenses 2023.csv\"\n",
    "\n",
    "# Read CSV file\n",
    "expenses = pd.read_csv(file_path)\n",
    "\n",
    "# Ensure the 'Date' column is in datetime format\n",
    "expenses['Date'] = pd.to_datetime(expenses['Date'])\n",
    "\n",
    "expenses.head()"
   ]
  },
  {
   "cell_type": "code",
   "execution_count": 3,
   "id": "28a73175-88ff-4e44-86bf-68e2ffefd22d",
   "metadata": {},
   "outputs": [
    {
     "data": {
      "text/plain": [
       "Date        datetime64[ns]\n",
       "Category            object\n",
       "Notes               object\n",
       "Amount             float64\n",
       "dtype: object"
      ]
     },
     "execution_count": 3,
     "metadata": {},
     "output_type": "execute_result"
    }
   ],
   "source": [
    "expenses.dtypes"
   ]
  },
  {
   "cell_type": "code",
   "execution_count": 5,
   "id": "39d68f0b-7391-4bf3-9dbc-7aab9f7c0823",
   "metadata": {},
   "outputs": [
    {
     "data": {
      "text/plain": [
       "array(['Food', 'Health', 'Housing', 'Miscellaneous', 'Savings',\n",
       "       'Transportation'], dtype=object)"
      ]
     },
     "execution_count": 5,
     "metadata": {},
     "output_type": "execute_result"
    }
   ],
   "source": [
    "# Specify the column you want to find unique values in\n",
    "column_name = 'Category'\n",
    "\n",
    "# Get unique values from the specified column\n",
    "unique_values = expenses[column_name].unique()\n",
    "unique_values"
   ]
  },
  {
   "cell_type": "markdown",
   "id": "b7cfa63e-ce34-46c5-8888-28945a541a44",
   "metadata": {},
   "source": [
    "# Import Income CSV File"
   ]
  },
  {
   "cell_type": "code",
   "execution_count": 5,
   "id": "a8c905f8-12cc-41cf-8bb6-b0af4fc0bfcc",
   "metadata": {},
   "outputs": [
    {
     "data": {
      "text/html": [
       "<div>\n",
       "<style scoped>\n",
       "    .dataframe tbody tr th:only-of-type {\n",
       "        vertical-align: middle;\n",
       "    }\n",
       "\n",
       "    .dataframe tbody tr th {\n",
       "        vertical-align: top;\n",
       "    }\n",
       "\n",
       "    .dataframe thead th {\n",
       "        text-align: right;\n",
       "    }\n",
       "</style>\n",
       "<table border=\"1\" class=\"dataframe\">\n",
       "  <thead>\n",
       "    <tr style=\"text-align: right;\">\n",
       "      <th></th>\n",
       "      <th>Date</th>\n",
       "      <th>Account</th>\n",
       "      <th>Source</th>\n",
       "      <th>Amount</th>\n",
       "    </tr>\n",
       "  </thead>\n",
       "  <tbody>\n",
       "    <tr>\n",
       "      <th>0</th>\n",
       "      <td>2024-04-30</td>\n",
       "      <td>Fidelity</td>\n",
       "      <td>Tax Refund</td>\n",
       "      <td>995.00</td>\n",
       "    </tr>\n",
       "    <tr>\n",
       "      <th>1</th>\n",
       "      <td>2024-08-14</td>\n",
       "      <td>Fidelity</td>\n",
       "      <td>Appen</td>\n",
       "      <td>295.54</td>\n",
       "    </tr>\n",
       "    <tr>\n",
       "      <th>2</th>\n",
       "      <td>NaT</td>\n",
       "      <td>NaN</td>\n",
       "      <td>NaN</td>\n",
       "      <td>NaN</td>\n",
       "    </tr>\n",
       "  </tbody>\n",
       "</table>\n",
       "</div>"
      ],
      "text/plain": [
       "        Date   Account      Source  Amount\n",
       "0 2024-04-30  Fidelity  Tax Refund  995.00\n",
       "1 2024-08-14  Fidelity       Appen  295.54\n",
       "2        NaT       NaN         NaN     NaN"
      ]
     },
     "execution_count": 5,
     "metadata": {},
     "output_type": "execute_result"
    }
   ],
   "source": [
    "# Specify the file path\n",
    "file_path = '/Users/juanflores/Downloads/Income/Income 127509a0873180e3b859e2b102354b08_all.csv'\n",
    "\n",
    "# Read CSV file\n",
    "income = pd.read_csv(file_path)\n",
    "\n",
    "# Ensure the 'Date' column is in datetime format\n",
    "income['Date'] = pd.to_datetime(income['Date'])\n",
    "\n",
    "# Display the data table\n",
    "income.head()"
   ]
  },
  {
   "cell_type": "markdown",
   "id": "cfb55ef0-e8cf-4ea9-bd32-63c52efc76eb",
   "metadata": {},
   "source": [
    "# Calculate monthly spending and remaining budget"
   ]
  },
  {
   "cell_type": "code",
   "execution_count": 6,
   "id": "86cc9882-1ed9-49ca-a573-5b4dc6d2d6f0",
   "metadata": {},
   "outputs": [],
   "source": [
    "# Specify the month and year you are interested in\n",
    "month = 11\n",
    "year = 2024\n",
    "month_name = calendar.month_name[month]\n",
    "\n",
    "# Filter expenses by the specified month and year\n",
    "monthly_expenses = expenses[(expenses['Date'].dt.month == month) & (expenses['Date'].dt.year == year)]\n",
    "\n",
    "# Calculate total month-to-date spending\n",
    "total_mtd_spending = round(monthly_expenses['Amount'].sum(), 2)\n",
    "\n",
    "# Calculate month-to-date spending grouped by category\n",
    "mtd_spending_by_category = monthly_expenses.groupby('Category')['Amount'].sum().reset_index()\n",
    "\n",
    "# Merge the MTD spending with the Budget DataFrame\n",
    "# Perform a left merge so that all categories in the Budget remain, even if no spending occurred\n",
    "if month <= 8:\n",
    "    budget_with_spending = pd.merge(budget_1, mtd_spending_by_category, on='Category', how='left')\n",
    "else:\n",
    "    budget_with_spending = pd.merge(budget_2, mtd_spending_by_category, on='Category', how='left')\n",
    "\n",
    "# Fill NaN values in the 'Amount' column with 0 (if there's no spending for a category)\n",
    "budget_with_spending['Amount'] = budget_with_spending['Amount'].fillna(0)\n",
    "\n",
    "# Calculate the remaining budget by subtracting MTD spending from BudgetAmount\n",
    "budget_with_spending['RemainingBudget'] = budget_with_spending['BudgetAmount'] - budget_with_spending['Amount']\n",
    "\n",
    "# Calculate the total remaining budget\n",
    "if month <= 8:\n",
    "    total_remaining_budget = round(total_monthly_budget_1-total_mtd_spending, 2)\n",
    "else:\n",
    "    total_remaining_budget = round(total_monthly_budget_2-total_mtd_spending, 2)"
   ]
  },
  {
   "cell_type": "markdown",
   "id": "622b8396-dc83-483d-a664-15e27d9aea91",
   "metadata": {},
   "source": [
    "# Calculate YTD Budget Variance"
   ]
  },
  {
   "cell_type": "code",
   "execution_count": 7,
   "id": "6de5c608-25c9-415d-82b9-006f786e5d0e",
   "metadata": {},
   "outputs": [],
   "source": [
    "# Filter Year-to-Date Expenses\n",
    "ytd_expenses = expenses[(expenses['Date'].dt.month <= month) & (expenses['Date'].dt.year == year)]\n",
    "\n",
    "# Calculate Total YTD Spending\n",
    "total_ytd_spending = round(ytd_expenses['Amount'].sum(), 2)\n",
    "\n",
    "# Calculate Total YTD Budget\n",
    "if month <= 8:\n",
    "    total_ytd_budget = budget_1['BudgetAmount'].sum() * month\n",
    "else:\n",
    "    total_ytd_budget = (budget_1['BudgetAmount'].sum() * 8) + (budget_2['BudgetAmount'].sum() * (month - 8))\n",
    "\n",
    "# Calculate YTD Budget Variance\n",
    "ytd_budget_variance = round(total_ytd_budget - total_ytd_spending, 2)"
   ]
  },
  {
   "cell_type": "markdown",
   "id": "80e01a16-37d0-49ba-9c86-8f326039c083",
   "metadata": {},
   "source": [
    "# Calculate Monthly Net Income"
   ]
  },
  {
   "cell_type": "code",
   "execution_count": 8,
   "id": "20494a60-dcd2-4517-8eb9-1ebae972ca08",
   "metadata": {},
   "outputs": [],
   "source": [
    "# Net Income = Total Income - Total Expenses\n",
    "# Filter income by the specified month and year\n",
    "monthly_income = income[(income['Date'].dt.month == month) & (income['Date'].dt.year == year)]\n",
    "\n",
    "# Calculate total monthly income\n",
    "total_monthly_income = round(monthly_income['Amount'].sum(), 2)\n",
    "\n",
    "# Calculate Monthly Net Income\n",
    "monthly_net_income = round(total_monthly_income - total_mtd_spending, 2)\n"
   ]
  },
  {
   "cell_type": "markdown",
   "id": "aed8a993-fa21-4a99-af1c-eb8a3bb4926b",
   "metadata": {},
   "source": [
    "# Calculate YTD Net Income"
   ]
  },
  {
   "cell_type": "code",
   "execution_count": 9,
   "id": "dbb053ed-5a33-472a-8edd-4e85fe087ffb",
   "metadata": {},
   "outputs": [],
   "source": [
    "# YTD Net Income = Total YTD Income - Total YTD Spending\n",
    "# Calculate Total YTD Income\n",
    "ytd_income = income[(income['Date'].dt.month <= month) & (income['Date'].dt.year == year)]\n",
    "total_ytd_income = round(ytd_income['Amount'].sum(), 2)\n",
    "\n",
    "# Calculate YTD Net Income\n",
    "ytd_net_income = round(total_ytd_income - total_ytd_spending, 2)"
   ]
  },
  {
   "cell_type": "markdown",
   "id": "3743cf0b-0b64-4525-9762-4da359ef8589",
   "metadata": {},
   "source": [
    "# Display the results"
   ]
  },
  {
   "cell_type": "code",
   "execution_count": 10,
   "id": "5b05e046-3412-435b-a76b-d8b2ac4b786d",
   "metadata": {},
   "outputs": [
    {
     "name": "stdout",
     "output_type": "stream",
     "text": [
      "November 2024\n",
      "Total Month-to-Date Spending: 814.81\n",
      "Total Remaining Budget = -9.81 = Monthly Budget Variance\n",
      "YTD Budget Variance: -267.17\n",
      "Total Monthly Income: 0.0\n",
      "Monthly Net Income: -814.81\n",
      "YTD Net Income: -8871.63\n"
     ]
    },
    {
     "data": {
      "text/html": [
       "<div>\n",
       "<style scoped>\n",
       "    .dataframe tbody tr th:only-of-type {\n",
       "        vertical-align: middle;\n",
       "    }\n",
       "\n",
       "    .dataframe tbody tr th {\n",
       "        vertical-align: top;\n",
       "    }\n",
       "\n",
       "    .dataframe thead th {\n",
       "        text-align: right;\n",
       "    }\n",
       "</style>\n",
       "<table border=\"1\" class=\"dataframe\">\n",
       "  <thead>\n",
       "    <tr style=\"text-align: right;\">\n",
       "      <th></th>\n",
       "      <th>Category</th>\n",
       "      <th>BudgetAmount</th>\n",
       "      <th>Amount</th>\n",
       "      <th>RemainingBudget</th>\n",
       "    </tr>\n",
       "  </thead>\n",
       "  <tbody>\n",
       "    <tr>\n",
       "      <th>0</th>\n",
       "      <td>Gas</td>\n",
       "      <td>60.0</td>\n",
       "      <td>36.42</td>\n",
       "      <td>23.58</td>\n",
       "    </tr>\n",
       "    <tr>\n",
       "      <th>1</th>\n",
       "      <td>Gym</td>\n",
       "      <td>20.0</td>\n",
       "      <td>0.00</td>\n",
       "      <td>20.00</td>\n",
       "    </tr>\n",
       "    <tr>\n",
       "      <th>2</th>\n",
       "      <td>Food</td>\n",
       "      <td>255.0</td>\n",
       "      <td>127.13</td>\n",
       "      <td>127.87</td>\n",
       "    </tr>\n",
       "    <tr>\n",
       "      <th>3</th>\n",
       "      <td>Haircut</td>\n",
       "      <td>25.0</td>\n",
       "      <td>0.00</td>\n",
       "      <td>25.00</td>\n",
       "    </tr>\n",
       "    <tr>\n",
       "      <th>4</th>\n",
       "      <td>Miscellaneous</td>\n",
       "      <td>320.0</td>\n",
       "      <td>97.26</td>\n",
       "      <td>222.74</td>\n",
       "    </tr>\n",
       "    <tr>\n",
       "      <th>5</th>\n",
       "      <td>Health</td>\n",
       "      <td>125.0</td>\n",
       "      <td>99.00</td>\n",
       "      <td>26.00</td>\n",
       "    </tr>\n",
       "    <tr>\n",
       "      <th>6</th>\n",
       "      <td>Education</td>\n",
       "      <td>0.0</td>\n",
       "      <td>455.00</td>\n",
       "      <td>-455.00</td>\n",
       "    </tr>\n",
       "  </tbody>\n",
       "</table>\n",
       "</div>"
      ],
      "text/plain": [
       "        Category  BudgetAmount  Amount  RemainingBudget\n",
       "0            Gas          60.0   36.42            23.58\n",
       "1            Gym          20.0    0.00            20.00\n",
       "2           Food         255.0  127.13           127.87\n",
       "3        Haircut          25.0    0.00            25.00\n",
       "4  Miscellaneous         320.0   97.26           222.74\n",
       "5         Health         125.0   99.00            26.00\n",
       "6      Education           0.0  455.00          -455.00"
      ]
     },
     "execution_count": 10,
     "metadata": {},
     "output_type": "execute_result"
    }
   ],
   "source": [
    "# Print the results\n",
    "print(f\"{month_name} {year}\")\n",
    "print(\"Total Month-to-Date Spending:\", total_mtd_spending)\n",
    "print('Total Remaining Budget =', total_remaining_budget, '= Monthly Budget Variance')\n",
    "print(f\"YTD Budget Variance: {ytd_budget_variance}\")\n",
    "print(f\"Total Monthly Income: {total_monthly_income}\")\n",
    "print(f\"Monthly Net Income: {monthly_net_income}\")\n",
    "print(f\"YTD Net Income: {ytd_net_income}\")\n",
    "budget_with_spending"
   ]
  },
  {
   "cell_type": "markdown",
   "id": "83e55efe-2857-43f6-b39c-4437c09e51a2",
   "metadata": {},
   "source": [
    "# Plot monthly budget and spending"
   ]
  },
  {
   "cell_type": "code",
   "execution_count": 11,
   "id": "241564dd-eda0-4dc8-a357-f95a92787141",
   "metadata": {},
   "outputs": [
    {
     "data": {
      "image/png": "[encoded data removed]",
      "text/plain": [
       "<Figure size 1000x600 with 1 Axes>"
      ]
     },
     "metadata": {},
     "output_type": "display_data"
    }
   ],
   "source": [
    "import matplotlib.pyplot as plt\n",
    "\n",
    "# Sample data (you can modify it as per your actual values)\n",
    "data = {\n",
    "    'Category': budget_with_spending['Category'],\n",
    "    'Budget Amount': budget_with_spending['BudgetAmount'],\n",
    "    'Actual Spending': budget_with_spending['Amount']\n",
    "}\n",
    "\n",
    "# Create a DataFrame\n",
    "df = pd.DataFrame(data)\n",
    "\n",
    "# Set the position and width of the bars\n",
    "fig, ax = plt.subplots(figsize=(10, 6))\n",
    "bar_width = 0.35\n",
    "index = range(len(df))\n",
    "\n",
    "# Plot bars\n",
    "ax.barh(index, df['Budget Amount'], bar_width, label='Budget Amount', color='#84a98c')\n",
    "ax.barh([i + bar_width for i in index], df['Actual Spending'], bar_width, label='Actual Spending', color='#dceacf')\n",
    "\n",
    "# Add labels and title\n",
    "ax.set_xlabel('Amount')\n",
    "ax.set_title(f\"{month_name} Budget and Monthly Spending\")\n",
    "ax.set_yticks([i + bar_width / 2 for i in index])\n",
    "ax.set_yticklabels(df['Category'])\n",
    "ax.legend()\n",
    "\n",
    "# Save the chart as a PNG file\n",
    "plt.savefig('budget_monthly_spending.png', format='png', dpi=300)  # Adjust dpi for higher quality if needed\n",
    "\n",
    "# Display the plot\n",
    "plt.show()"
   ]
  },
  {
   "cell_type": "code",
   "execution_count": null,
   "id": "c1b8327f-0fff-46ab-8f7c-a1697083ae9c",
   "metadata": {},
   "outputs": [],
   "source": []
  }
 ],
 "metadata": {
  "kernelspec": {
   "display_name": "Python 3 (ipykernel)",
   "language": "python",
   "name": "python3"
  },
  "language_info": {
   "codemirror_mode": {
    "name": "ipython",
    "version": 3
   },
   "file_extension": ".py",
   "mimetype": "text/x-python",
   "name": "python",
   "nbconvert_exporter": "python",
   "pygments_lexer": "ipython3",
   "version": "3.12.4"
  }
 },
 "nbformat": 4,
 "nbformat_minor": 5
}
