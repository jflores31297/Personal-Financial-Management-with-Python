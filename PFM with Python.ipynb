{
 "cells": [
  {
   "cell_type": "markdown",
   "id": "305b9fc0-4e29-4b36-8fee-5dae419e727e",
   "metadata": {},
   "source": [
    "# Import Libraries"
   ]
  },
  {
   "cell_type": "code",
   "execution_count": 1,
   "id": "0317e860-9c8d-49e2-8fd5-fb880da8eba0",
   "metadata": {},
   "outputs": [],
   "source": [
    "import pandas as pd\n",
    "from datetime import datetime\n",
    "import calendar\n",
    "import matplotlib.pyplot as plt"
   ]
  },
  {
   "cell_type": "code",
   "execution_count": 2,
   "id": "07fb3414-5b5f-48e2-893a-2943fe1e230d",
   "metadata": {},
   "outputs": [],
   "source": [
    "# Format budget values (e.g., currency format) to make them user-friendly:\n",
    "pd.options.display.float_format = '${:,.2f}'.format"
   ]
  },
  {
   "cell_type": "markdown",
   "id": "a3a68824-0661-4443-987f-2b5c15cccdf1",
   "metadata": {},
   "source": [
    "### Helper Functions:"
   ]
  },
  {
   "cell_type": "code",
   "execution_count": 3,
   "id": "541e22e3-9e32-4ec9-bc11-8a6c5030836a",
   "metadata": {},
   "outputs": [],
   "source": [
    "# Function to calculate total budget\n",
    "def calculate_total_budget(budget_df):\n",
    "    \"\"\"\n",
    "    Calculate the total budget from a DataFrame.    \n",
    "    Parameters:\n",
    "        budget_df (DataFrame): A DataFrame with a 'BudgetAmount' column.    \n",
    "    Returns:\n",
    "        float: The total budget.\n",
    "    \"\"\"\n",
    "    return round(budget_df['BudgetAmount'].sum(), 2)\n",
    "\n",
    "# Function to calculate total monthly spending\n",
    "def calculate_total_monthly_spending(monthly_expenses):\n",
    "    \"\"\"\n",
    "    Calculate total MTD spending.\n",
    "\n",
    "    Parameters:\n",
    "        monthly_expenses: Expenses DataFrame filtered by specified month and year\n",
    "\n",
    "    Returns:\n",
    "        float: total mtd spending\n",
    "    \"\"\"\n",
    "    return round(monthly_expenses['Amount'].sum(), 2)\n",
    "\n",
    "# Function to calculate month-to-date spending grouped by category\n",
    "def calculate_mtd_spending_by_category(monthly_expenses):\n",
    "    \"\"\"\n",
    "    Calculate Month-to-date spending grouped by category.\n",
    "\n",
    "    Parameters:\n",
    "        monthly_expenses\" Expenses DataFrame filtered by specified month and year        \n",
    "    \"\"\"\n",
    "    return monthly_expenses.groupby('Category')['Amount'].sum().reset_index()\n",
    "\n",
    "# Function to calculate monthly budget variance (remaining budget)\n",
    "def calculate_monthly_budget_variance(total_monthly_budget, total_mtd_spending):\n",
    "    \"\"\"\n",
    "    Calculate Monthly Budget Variance (total remaining budget for specified month and year)\n",
    "\n",
    "    Parameters:\n",
    "        total_monthly_budget,\n",
    "        total_mtd_spending\n",
    "\n",
    "    Returns\n",
    "        float: monthly budget variance\n",
    "    \"\"\"\n",
    "    return round(total_monthly_budget-total_mtd_spending, 2)\n",
    "\n",
    "# Function to calculate total ytd spending\n",
    "def calculate_total_ytd_spending(ytd_expenses):\n",
    "    \"\"\"\n",
    "    Calculate the total year-to-date spending.\n",
    "\n",
    "    Parameters:\n",
    "        ytd_expenses\n",
    "\n",
    "    Return: \n",
    "        float: total ytd spending\n",
    "    \"\"\"\n",
    "    return round(ytd_expenses['Amount'].sum(), 2)\n",
    "\n",
    "# Function to calculate total ytd budget\n",
    "def calculate_total_ytd_budget(budget, month):\n",
    "    \"\"\"\n",
    "    Calculate Total YTD Budget.\n",
    "\n",
    "    Parameters:\n",
    "        budget: Budget DataFrame\n",
    "        month: Current month or month of interest\n",
    "\n",
    "    Return: \n",
    "        float: total ytd budget amount\n",
    "    \"\"\"\n",
    "    return budget['BudgetAmount'].sum() * month\n",
    "\n",
    "# Function to calculate yearly budget variance\n",
    "def calculate_ytd_budget_variance(total_ytd_budget, total_ytd_spending):\n",
    "    \"\"\"\n",
    "    Calculate YTD Budget Variance.\n",
    "\n",
    "    Parameters:\n",
    "        total_ytd_budget\n",
    "        total_ytd_spending\n",
    "\n",
    "    Return:\n",
    "        float: YTD budget variance\n",
    "    \"\"\"\n",
    "    return round(total_ytd_budget - total_ytd_spending, 2)\n",
    "\n",
    "#Function to calculate total monthly income\n",
    "def calculate_total_monthly_income(monthly_income):\n",
    "    \"\"\"\n",
    "    Calculate total monthly income.\n",
    "\n",
    "    Parameters:\n",
    "        monthly_income: Income DataFrame filtered by specified month and year \n",
    "\n",
    "    Returns:\n",
    "        float: Total income for the specified month\n",
    "    \"\"\"\n",
    "    return round(monthly_income['Amount'].sum(), 2)\n",
    "\n",
    "# Function to calculate monthly net income\n",
    "def calculate_monthly_net_income(total_monthly_income, total_mtd_spending):\n",
    "    \"\"\"\n",
    "    Calculate Monthly Net Income.\n",
    "\n",
    "    Parameters:\n",
    "        total_monthly_income\n",
    "        total_mtd_spending\n",
    "    Returns:\n",
    "        float: monthly net income     \n",
    "    \"\"\"\n",
    "    return round(total_monthly_income - total_mtd_spending, 2)\n",
    "\n",
    "# Function to calculate total ytd income\n",
    "def calculate_total_ytd_income(ytd_income):\n",
    "    \"\"\"\n",
    "    Calculate total ytd income.\n",
    "\n",
    "    Parameters:\n",
    "        ytd_income\n",
    "\n",
    "    Returns:\n",
    "        float: total ytd income\n",
    "    \"\"\"\n",
    "    return round(ytd_income['Amount'].sum(), 2)\n",
    "\n",
    "# Function to calculate yearly net income\n",
    "def calculate_ytd_net_income(total_ytd_income, total_ytd_spending):\n",
    "    \"\"\"\n",
    "    Calculate YTD Net Income\n",
    "\n",
    "    Parameters:\n",
    "        total_ytd_income\n",
    "        total_ytd_spending\n",
    "    \"\"\"\n",
    "    return round(total_ytd_income - total_ytd_spending, 2)"
   ]
  },
  {
   "cell_type": "markdown",
   "id": "28093630-e002-4121-b96f-0d006d1f57b4",
   "metadata": {},
   "source": [
    "# Define Your Monthly Budget:"
   ]
  },
  {
   "cell_type": "code",
   "execution_count": 4,
   "id": "7c499ceb-6cf2-45f5-bec7-f511a205cc88",
   "metadata": {},
   "outputs": [
    {
     "name": "stdout",
     "output_type": "stream",
     "text": [
      "Total Monthly Budget = 3900.0\n"
     ]
    },
    {
     "data": {
      "text/html": [
       "<div>\n",
       "<style scoped>\n",
       "    .dataframe tbody tr th:only-of-type {\n",
       "        vertical-align: middle;\n",
       "    }\n",
       "\n",
       "    .dataframe tbody tr th {\n",
       "        vertical-align: top;\n",
       "    }\n",
       "\n",
       "    .dataframe thead th {\n",
       "        text-align: right;\n",
       "    }\n",
       "</style>\n",
       "<table border=\"1\" class=\"dataframe\">\n",
       "  <thead>\n",
       "    <tr style=\"text-align: right;\">\n",
       "      <th></th>\n",
       "      <th>Category</th>\n",
       "      <th>BudgetAmount</th>\n",
       "    </tr>\n",
       "  </thead>\n",
       "  <tbody>\n",
       "    <tr>\n",
       "      <th>0</th>\n",
       "      <td>Food</td>\n",
       "      <td>$400.00</td>\n",
       "    </tr>\n",
       "    <tr>\n",
       "      <th>1</th>\n",
       "      <td>Transportation</td>\n",
       "      <td>$200.00</td>\n",
       "    </tr>\n",
       "    <tr>\n",
       "      <th>2</th>\n",
       "      <td>Miscellaneous</td>\n",
       "      <td>$400.00</td>\n",
       "    </tr>\n",
       "    <tr>\n",
       "      <th>3</th>\n",
       "      <td>Health</td>\n",
       "      <td>$200.00</td>\n",
       "    </tr>\n",
       "    <tr>\n",
       "      <th>4</th>\n",
       "      <td>Housing</td>\n",
       "      <td>$1,500.00</td>\n",
       "    </tr>\n",
       "    <tr>\n",
       "      <th>5</th>\n",
       "      <td>Savings</td>\n",
       "      <td>$1,200.00</td>\n",
       "    </tr>\n",
       "  </tbody>\n",
       "</table>\n",
       "</div>"
      ],
      "text/plain": [
       "         Category  BudgetAmount\n",
       "0            Food       $400.00\n",
       "1  Transportation       $200.00\n",
       "2   Miscellaneous       $400.00\n",
       "3          Health       $200.00\n",
       "4         Housing     $1,500.00\n",
       "5         Savings     $1,200.00"
      ]
     },
     "execution_count": 4,
     "metadata": {},
     "output_type": "execute_result"
    }
   ],
   "source": [
    "# Define the category and budget amount pairs\n",
    "budget_data = [\n",
    "    ('Food', 400.00),\n",
    "    ('Transportation', 200.00),\n",
    "    ('Miscellaneous', 400.00),\n",
    "    ('Health', 200.00),\n",
    "    ('Housing', 1500.00),\n",
    "    ('Savings', 1200.00)\n",
    "]\n",
    "\n",
    "# Create the DataFrame\n",
    "budget = pd.DataFrame(budget_data, columns=['Category', 'BudgetAmount'])\n",
    "\n",
    "# Call the function to calculate total budget\n",
    "total_monthly_budget = calculate_total_budget(budget)\n",
    "print('Total Monthly Budget =', total_monthly_budget)\n",
    "\n",
    "# Display the DataFrame\n",
    "budget\n"
   ]
  },
  {
   "cell_type": "markdown",
   "id": "e24450a0-8344-476c-b8c2-dd2ee3a39a29",
   "metadata": {},
   "source": [
    "### Visualize Budget Allocation"
   ]
  },
  {
   "cell_type": "code",
   "execution_count": 5,
   "id": "43845e4d-4a14-4f5c-a331-2de30cb7e461",
   "metadata": {},
   "outputs": [
    {
     "data": {
      "image/png": "[encoded data removed]",
      "text/plain": [
       "<Figure size 640x480 with 1 Axes>"
      ]
     },
     "metadata": {},
     "output_type": "display_data"
    }
   ],
   "source": [
    "# Add data visualization (e.g., pie chart, bar graph) to present budget allocation:\n",
    "# Define custom colors\n",
    "custom_colors = ['#6d8c73', '#789a7f', '#84a98c', '#9aba9d', '#b0caae', '#dceacf']\n",
    "\n",
    "budget.plot(kind='pie', \n",
    "            y='BudgetAmount', \n",
    "            labels=budget['Category'], \n",
    "            autopct='%1.1f%%',\n",
    "            colors=custom_colors,\n",
    "            legend=False)\n",
    "plt.title('Budget Allocation')\n",
    "plt.ylabel('')\n",
    "plt.show()"
   ]
  },
  {
   "cell_type": "markdown",
   "id": "9b4bd7ab-b1ab-4534-bded-09847d23624a",
   "metadata": {},
   "source": [
    "# Import Expenses CSV file"
   ]
  },
  {
   "cell_type": "code",
   "execution_count": 6,
   "id": "5c3a4fcc-e8ed-40c6-af3d-d4dacbc29582",
   "metadata": {},
   "outputs": [
    {
     "data": {
      "text/html": [
       "<div>\n",
       "<style scoped>\n",
       "    .dataframe tbody tr th:only-of-type {\n",
       "        vertical-align: middle;\n",
       "    }\n",
       "\n",
       "    .dataframe tbody tr th {\n",
       "        vertical-align: top;\n",
       "    }\n",
       "\n",
       "    .dataframe thead th {\n",
       "        text-align: right;\n",
       "    }\n",
       "</style>\n",
       "<table border=\"1\" class=\"dataframe\">\n",
       "  <thead>\n",
       "    <tr style=\"text-align: right;\">\n",
       "      <th></th>\n",
       "      <th>Date</th>\n",
       "      <th>Category</th>\n",
       "      <th>Notes</th>\n",
       "      <th>Amount</th>\n",
       "    </tr>\n",
       "  </thead>\n",
       "  <tbody>\n",
       "    <tr>\n",
       "      <th>0</th>\n",
       "      <td>2023-03-07</td>\n",
       "      <td>Food</td>\n",
       "      <td>BurgerBlitz</td>\n",
       "      <td>$6.55</td>\n",
       "    </tr>\n",
       "    <tr>\n",
       "      <th>1</th>\n",
       "      <td>2023-04-04</td>\n",
       "      <td>Food</td>\n",
       "      <td>BurgerBlitz</td>\n",
       "      <td>$6.95</td>\n",
       "    </tr>\n",
       "    <tr>\n",
       "      <th>2</th>\n",
       "      <td>2023-03-03</td>\n",
       "      <td>Food</td>\n",
       "      <td>BurgerBlitz</td>\n",
       "      <td>$7.09</td>\n",
       "    </tr>\n",
       "    <tr>\n",
       "      <th>3</th>\n",
       "      <td>2023-01-06</td>\n",
       "      <td>Food</td>\n",
       "      <td>BurgerBlitz</td>\n",
       "      <td>$7.54</td>\n",
       "    </tr>\n",
       "    <tr>\n",
       "      <th>4</th>\n",
       "      <td>2023-09-12</td>\n",
       "      <td>Food</td>\n",
       "      <td>DailyChoice Foods</td>\n",
       "      <td>$7.72</td>\n",
       "    </tr>\n",
       "  </tbody>\n",
       "</table>\n",
       "</div>"
      ],
      "text/plain": [
       "        Date Category              Notes  Amount\n",
       "0 2023-03-07     Food        BurgerBlitz   $6.55\n",
       "1 2023-04-04     Food        BurgerBlitz   $6.95\n",
       "2 2023-03-03     Food        BurgerBlitz   $7.09\n",
       "3 2023-01-06     Food        BurgerBlitz   $7.54\n",
       "4 2023-09-12     Food  DailyChoice Foods   $7.72"
      ]
     },
     "execution_count": 6,
     "metadata": {},
     "output_type": "execute_result"
    }
   ],
   "source": [
    "# Specify the file path\n",
    "file_path = \"/Users/juanflores/Documents/Fake Expenses 2023.csv\"\n",
    "\n",
    "# Read CSV file\n",
    "expenses = pd.read_csv(file_path)\n",
    "\n",
    "# Ensure the 'Date' column is in datetime format\n",
    "expenses['Date'] = pd.to_datetime(expenses['Date'])\n",
    "\n",
    "expenses.head()"
   ]
  },
  {
   "cell_type": "code",
   "execution_count": 7,
   "id": "28a73175-88ff-4e44-86bf-68e2ffefd22d",
   "metadata": {},
   "outputs": [
    {
     "data": {
      "text/plain": [
       "Date        datetime64[ns]\n",
       "Category            object\n",
       "Notes               object\n",
       "Amount             float64\n",
       "dtype: object"
      ]
     },
     "execution_count": 7,
     "metadata": {},
     "output_type": "execute_result"
    }
   ],
   "source": [
    "expenses.dtypes"
   ]
  },
  {
   "cell_type": "code",
   "execution_count": 8,
   "id": "39d68f0b-7391-4bf3-9dbc-7aab9f7c0823",
   "metadata": {},
   "outputs": [
    {
     "data": {
      "text/plain": [
       "array(['Food', 'Health', 'Housing', 'Miscellaneous', 'Savings',\n",
       "       'Transportation'], dtype=object)"
      ]
     },
     "execution_count": 8,
     "metadata": {},
     "output_type": "execute_result"
    }
   ],
   "source": [
    "# Specify the column you want to find unique values in\n",
    "column_name = 'Category'\n",
    "\n",
    "# Get unique values from the specified column\n",
    "unique_values = expenses[column_name].unique()\n",
    "unique_values"
   ]
  },
  {
   "cell_type": "markdown",
   "id": "b7cfa63e-ce34-46c5-8888-28945a541a44",
   "metadata": {},
   "source": [
    "# Import Income CSV File"
   ]
  },
  {
   "cell_type": "code",
   "execution_count": 9,
   "id": "a8c905f8-12cc-41cf-8bb6-b0af4fc0bfcc",
   "metadata": {},
   "outputs": [
    {
     "data": {
      "text/html": [
       "<div>\n",
       "<style scoped>\n",
       "    .dataframe tbody tr th:only-of-type {\n",
       "        vertical-align: middle;\n",
       "    }\n",
       "\n",
       "    .dataframe tbody tr th {\n",
       "        vertical-align: top;\n",
       "    }\n",
       "\n",
       "    .dataframe thead th {\n",
       "        text-align: right;\n",
       "    }\n",
       "</style>\n",
       "<table border=\"1\" class=\"dataframe\">\n",
       "  <thead>\n",
       "    <tr style=\"text-align: right;\">\n",
       "      <th></th>\n",
       "      <th>Date</th>\n",
       "      <th>Source</th>\n",
       "      <th>Amount</th>\n",
       "    </tr>\n",
       "  </thead>\n",
       "  <tbody>\n",
       "    <tr>\n",
       "      <th>0</th>\n",
       "      <td>2023-01-06</td>\n",
       "      <td>Wages - NovaSynergy Solutions</td>\n",
       "      <td>$2,018.82</td>\n",
       "    </tr>\n",
       "    <tr>\n",
       "      <th>1</th>\n",
       "      <td>2023-01-20</td>\n",
       "      <td>Wages - NovaSynergy Solutions</td>\n",
       "      <td>$1,994.25</td>\n",
       "    </tr>\n",
       "    <tr>\n",
       "      <th>2</th>\n",
       "      <td>2023-02-03</td>\n",
       "      <td>Wages - NovaSynergy Solutions</td>\n",
       "      <td>$1,976.87</td>\n",
       "    </tr>\n",
       "    <tr>\n",
       "      <th>3</th>\n",
       "      <td>2023-02-17</td>\n",
       "      <td>Wages - NovaSynergy Solutions</td>\n",
       "      <td>$2,042.74</td>\n",
       "    </tr>\n",
       "    <tr>\n",
       "      <th>4</th>\n",
       "      <td>2023-03-03</td>\n",
       "      <td>Wages - NovaSynergy Solutions</td>\n",
       "      <td>$1,966.23</td>\n",
       "    </tr>\n",
       "  </tbody>\n",
       "</table>\n",
       "</div>"
      ],
      "text/plain": [
       "        Date                         Source    Amount\n",
       "0 2023-01-06  Wages - NovaSynergy Solutions $2,018.82\n",
       "1 2023-01-20  Wages - NovaSynergy Solutions $1,994.25\n",
       "2 2023-02-03  Wages - NovaSynergy Solutions $1,976.87\n",
       "3 2023-02-17  Wages - NovaSynergy Solutions $2,042.74\n",
       "4 2023-03-03  Wages - NovaSynergy Solutions $1,966.23"
      ]
     },
     "execution_count": 9,
     "metadata": {},
     "output_type": "execute_result"
    }
   ],
   "source": [
    "# Specify the file path\n",
    "file_path = '/Users/juanflores/Documents/Fake-Income.csv'\n",
    "\n",
    "# Read CSV file\n",
    "income = pd.read_csv(file_path)\n",
    "\n",
    "# Ensure the 'Date' column is in datetime format\n",
    "income['Date'] = pd.to_datetime(income['Date'])\n",
    "\n",
    "# Display the data table\n",
    "income.head()"
   ]
  },
  {
   "cell_type": "markdown",
   "id": "cfb55ef0-e8cf-4ea9-bd32-63c52efc76eb",
   "metadata": {},
   "source": [
    "# Calculate monthly spending and remaining budget"
   ]
  },
  {
   "cell_type": "markdown",
   "id": "b26089de-5d15-47aa-9c4a-c40b0738a63a",
   "metadata": {},
   "source": [
    "### Specify the month and year you are interested in:"
   ]
  },
  {
   "cell_type": "code",
   "execution_count": 10,
   "id": "7cd88452-717a-4ee6-a3b3-4a90b44a3232",
   "metadata": {},
   "outputs": [],
   "source": [
    "# Specify the month and year you are interested in\n",
    "month = 11\n",
    "year = 2023\n",
    "\n",
    "month_name = calendar.month_name[month]\n",
    "\n",
    "# Filter expenses by the specified month and year\n",
    "monthly_expenses = expenses[(expenses['Date'].dt.month == month) & (expenses['Date'].dt.year == year)]"
   ]
  },
  {
   "cell_type": "code",
   "execution_count": 11,
   "id": "86cc9882-1ed9-49ca-a573-5b4dc6d2d6f0",
   "metadata": {},
   "outputs": [],
   "source": [
    "# Calculate total month-to-date spending\n",
    "total_mtd_spending = calculate_total_monthly_spending(monthly_expenses)\n",
    "\n",
    "# Calculate month-to-date spending grouped by category\n",
    "mtd_spending_by_category = calculate_mtd_spending_by_category(monthly_expenses)\n",
    "\n",
    "# Merge the MTD spending with the Budget DataFrame\n",
    "budget_with_spending = pd.merge(budget, mtd_spending_by_category, on='Category', how='left')\n",
    "\n",
    "# Fill NaN values in the 'Amount' column with 0 (if there's no spending for a category)\n",
    "budget_with_spending['Amount'] = budget_with_spending['Amount'].fillna(0)\n",
    "\n",
    "# Calculate the remaining budget by subtracting MTD spending from BudgetAmount\n",
    "budget_with_spending['RemainingBudget'] = budget_with_spending['BudgetAmount'] - budget_with_spending['Amount']\n",
    "\n",
    "# Calculate the total remaining budget\n",
    "total_remaining_budget = calculate_monthly_budget_variance(total_monthly_budget, total_mtd_spending)"
   ]
  },
  {
   "cell_type": "markdown",
   "id": "622b8396-dc83-483d-a664-15e27d9aea91",
   "metadata": {},
   "source": [
    "# Calculate YTD Budget Variance"
   ]
  },
  {
   "cell_type": "code",
   "execution_count": 12,
   "id": "6de5c608-25c9-415d-82b9-006f786e5d0e",
   "metadata": {},
   "outputs": [],
   "source": [
    "# Filter Year-to-Date Expenses\n",
    "ytd_expenses = expenses[(expenses['Date'].dt.month <= month) & (expenses['Date'].dt.year == year)]\n",
    "\n",
    "# Calculate Total YTD Spending\n",
    "total_ytd_spending = calculate_total_ytd_spending(ytd_expenses)\n",
    "\n",
    "# Calculate Total YTD Budget\n",
    "total_ytd_budget = calculate_total_ytd_budget(budget, month)\n",
    "\n",
    "# Calculate YTD Budget Variance\n",
    "ytd_budget_variance =  calculate_ytd_budget_variance(total_ytd_budget, total_ytd_spending)"
   ]
  },
  {
   "cell_type": "markdown",
   "id": "80e01a16-37d0-49ba-9c86-8f326039c083",
   "metadata": {},
   "source": [
    "# Calculate Monthly Net Income"
   ]
  },
  {
   "cell_type": "code",
   "execution_count": 13,
   "id": "20494a60-dcd2-4517-8eb9-1ebae972ca08",
   "metadata": {},
   "outputs": [],
   "source": [
    "# Net Income = Total Income - Total Expenses\n",
    "\n",
    "# Filter income by the specified month and year\n",
    "monthly_income = income[(income['Date'].dt.month == month) & (income['Date'].dt.year == year)]\n",
    "\n",
    "# Calculate total monthly income\n",
    "total_monthly_income = calculate_total_monthly_income(monthly_income)\n",
    "\n",
    "# Calculate Monthly Net Income\n",
    "monthly_net_income = calculate_monthly_net_income(total_monthly_income, total_mtd_spending)"
   ]
  },
  {
   "cell_type": "markdown",
   "id": "aed8a993-fa21-4a99-af1c-eb8a3bb4926b",
   "metadata": {},
   "source": [
    "# Calculate YTD Net Income"
   ]
  },
  {
   "cell_type": "code",
   "execution_count": 14,
   "id": "dbb053ed-5a33-472a-8edd-4e85fe087ffb",
   "metadata": {},
   "outputs": [],
   "source": [
    "# YTD Net Income = Total YTD Income - Total YTD Spending\n",
    "\n",
    "# Calculate Total YTD Income\n",
    "ytd_income = income[(income['Date'].dt.month <= month) & (income['Date'].dt.year == year)]\n",
    "total_ytd_income = calculate_total_ytd_income(ytd_income)\n",
    "\n",
    "# Calculate YTD Net Income\n",
    "ytd_net_income = calculate_ytd_net_income(total_ytd_income, total_ytd_spending)"
   ]
  },
  {
   "cell_type": "markdown",
   "id": "3743cf0b-0b64-4525-9762-4da359ef8589",
   "metadata": {},
   "source": [
    "# Display the results"
   ]
  },
  {
   "cell_type": "code",
   "execution_count": 15,
   "id": "5b05e046-3412-435b-a76b-d8b2ac4b786d",
   "metadata": {},
   "outputs": [
    {
     "name": "stdout",
     "output_type": "stream",
     "text": [
      "November 2023\n",
      "Total Month-to-Date Spending: 3561.62\n",
      "Total Remaining Budget = 338.38 = Monthly Budget Variance\n",
      "YTD Budget Variance: 2841.37\n",
      "Total Monthly Income: 4024.24\n",
      "Monthly Net Income: 462.62\n",
      "YTD Net Income: 8553.84\n"
     ]
    },
    {
     "data": {
      "text/html": [
       "<div>\n",
       "<style scoped>\n",
       "    .dataframe tbody tr th:only-of-type {\n",
       "        vertical-align: middle;\n",
       "    }\n",
       "\n",
       "    .dataframe tbody tr th {\n",
       "        vertical-align: top;\n",
       "    }\n",
       "\n",
       "    .dataframe thead th {\n",
       "        text-align: right;\n",
       "    }\n",
       "</style>\n",
       "<table border=\"1\" class=\"dataframe\">\n",
       "  <thead>\n",
       "    <tr style=\"text-align: right;\">\n",
       "      <th></th>\n",
       "      <th>Category</th>\n",
       "      <th>BudgetAmount</th>\n",
       "      <th>Amount</th>\n",
       "      <th>RemainingBudget</th>\n",
       "    </tr>\n",
       "  </thead>\n",
       "  <tbody>\n",
       "    <tr>\n",
       "      <th>0</th>\n",
       "      <td>Food</td>\n",
       "      <td>$400.00</td>\n",
       "      <td>$316.59</td>\n",
       "      <td>$83.41</td>\n",
       "    </tr>\n",
       "    <tr>\n",
       "      <th>1</th>\n",
       "      <td>Transportation</td>\n",
       "      <td>$200.00</td>\n",
       "      <td>$116.93</td>\n",
       "      <td>$83.07</td>\n",
       "    </tr>\n",
       "    <tr>\n",
       "      <th>2</th>\n",
       "      <td>Miscellaneous</td>\n",
       "      <td>$400.00</td>\n",
       "      <td>$255.13</td>\n",
       "      <td>$144.87</td>\n",
       "    </tr>\n",
       "    <tr>\n",
       "      <th>3</th>\n",
       "      <td>Health</td>\n",
       "      <td>$200.00</td>\n",
       "      <td>$207.97</td>\n",
       "      <td>$-7.97</td>\n",
       "    </tr>\n",
       "    <tr>\n",
       "      <th>4</th>\n",
       "      <td>Housing</td>\n",
       "      <td>$1,500.00</td>\n",
       "      <td>$1,465.00</td>\n",
       "      <td>$35.00</td>\n",
       "    </tr>\n",
       "    <tr>\n",
       "      <th>5</th>\n",
       "      <td>Savings</td>\n",
       "      <td>$1,200.00</td>\n",
       "      <td>$1,200.00</td>\n",
       "      <td>$0.00</td>\n",
       "    </tr>\n",
       "  </tbody>\n",
       "</table>\n",
       "</div>"
      ],
      "text/plain": [
       "         Category  BudgetAmount    Amount  RemainingBudget\n",
       "0            Food       $400.00   $316.59           $83.41\n",
       "1  Transportation       $200.00   $116.93           $83.07\n",
       "2   Miscellaneous       $400.00   $255.13          $144.87\n",
       "3          Health       $200.00   $207.97           $-7.97\n",
       "4         Housing     $1,500.00 $1,465.00           $35.00\n",
       "5         Savings     $1,200.00 $1,200.00            $0.00"
      ]
     },
     "execution_count": 15,
     "metadata": {},
     "output_type": "execute_result"
    }
   ],
   "source": [
    "# Print the results\n",
    "print(f\"{month_name} {year}\")\n",
    "print(\"Total Month-to-Date Spending:\", total_mtd_spending)\n",
    "print('Total Remaining Budget =', total_remaining_budget, '= Monthly Budget Variance')\n",
    "print(f\"YTD Budget Variance: {ytd_budget_variance}\")\n",
    "print(f\"Total Monthly Income: {total_monthly_income}\")\n",
    "print(f\"Monthly Net Income: {monthly_net_income}\")\n",
    "print(f\"YTD Net Income: {ytd_net_income}\")\n",
    "budget_with_spending"
   ]
  },
  {
   "cell_type": "markdown",
   "id": "83e55efe-2857-43f6-b39c-4437c09e51a2",
   "metadata": {},
   "source": [
    "# Plot monthly budget and spending"
   ]
  },
  {
   "cell_type": "code",
   "execution_count": 16,
   "id": "241564dd-eda0-4dc8-a357-f95a92787141",
   "metadata": {},
   "outputs": [
    {
     "data": {
      "image/png": "[encoded data removed]",
      "text/plain": [
       "<Figure size 1000x600 with 1 Axes>"
      ]
     },
     "metadata": {},
     "output_type": "display_data"
    }
   ],
   "source": [
    "# Sample data (you can modify it as per your actual values)\n",
    "data = {\n",
    "    'Category': budget_with_spending['Category'],\n",
    "    'Budget Amount': budget_with_spending['BudgetAmount'],\n",
    "    'Actual Spending': budget_with_spending['Amount']\n",
    "}\n",
    "\n",
    "# Create a DataFrame\n",
    "df = pd.DataFrame(data)\n",
    "\n",
    "# Set the position and width of the bars\n",
    "fig, ax = plt.subplots(figsize=(10, 6))\n",
    "bar_width = 0.35\n",
    "index = range(len(df))\n",
    "\n",
    "# Plot bars\n",
    "ax.barh(index, df['Budget Amount'], bar_width, label='Budget Amount', color='#84a98c')\n",
    "ax.barh([i + bar_width for i in index], df['Actual Spending'], bar_width, label='Actual Spending', color='#dceacf')\n",
    "\n",
    "# Add labels and title\n",
    "ax.set_xlabel('Amount')\n",
    "ax.set_title(f\"{month_name} {year} Budget and Monthly Spending\")\n",
    "ax.set_yticks([i + bar_width / 2 for i in index])\n",
    "ax.set_yticklabels(df['Category'])\n",
    "ax.legend()\n",
    "\n",
    "# Save the chart as a PNG file\n",
    "plt.savefig('budget_monthly_spending.png', format='png', dpi=300)  # Adjust dpi for higher quality if needed\n",
    "\n",
    "# Display the plot\n",
    "plt.show()"
   ]
  },
  {
   "cell_type": "code",
   "execution_count": null,
   "id": "c1b8327f-0fff-46ab-8f7c-a1697083ae9c",
   "metadata": {},
   "outputs": [],
   "source": []
  }
 ],
 "metadata": {
  "kernelspec": {
   "display_name": "Python 3 (ipykernel)",
   "language": "python",
   "name": "python3"
  },
  "language_info": {
   "codemirror_mode": {
    "name": "ipython",
    "version": 3
   },
   "file_extension": ".py",
   "mimetype": "text/x-python",
   "name": "python",
   "nbconvert_exporter": "python",
   "pygments_lexer": "ipython3",
   "version": "3.12.4"
  }
 },
 "nbformat": 4,
 "nbformat_minor": 5
}
