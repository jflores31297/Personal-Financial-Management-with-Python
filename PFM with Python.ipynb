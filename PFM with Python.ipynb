{
 "cells": [
  {
   "cell_type": "markdown",
   "id": "79e6ac3f-5f7f-4f10-a72d-1464d61d7fe7",
   "metadata": {},
   "source": [
    "# Generate synthetic data"
   ]
  },
  {
   "cell_type": "markdown",
   "id": "2ed5b8a3-05c4-4929-afdf-cb8f3fe6a0c7",
   "metadata": {},
   "source": [
    "### Utilities"
   ]
  },
  {
   "cell_type": "code",
   "execution_count": 4,
   "id": "bdf13be7-44ef-4691-a0ec-8cc1e7f46a40",
   "metadata": {},
   "outputs": [
    {
     "data": {
      "text/html": [
       "<div>\n",
       "<style scoped>\n",
       "    .dataframe tbody tr th:only-of-type {\n",
       "        vertical-align: middle;\n",
       "    }\n",
       "\n",
       "    .dataframe tbody tr th {\n",
       "        vertical-align: top;\n",
       "    }\n",
       "\n",
       "    .dataframe thead th {\n",
       "        text-align: right;\n",
       "    }\n",
       "</style>\n",
       "<table border=\"1\" class=\"dataframe\">\n",
       "  <thead>\n",
       "    <tr style=\"text-align: right;\">\n",
       "      <th></th>\n",
       "      <th>Month</th>\n",
       "      <th>Water Bill</th>\n",
       "      <th>Electric Bill</th>\n",
       "      <th>Gas Bill</th>\n",
       "    </tr>\n",
       "  </thead>\n",
       "  <tbody>\n",
       "    <tr>\n",
       "      <th>0</th>\n",
       "      <td>2023-01</td>\n",
       "      <td>45.70</td>\n",
       "      <td>112.85</td>\n",
       "      <td>25.56</td>\n",
       "    </tr>\n",
       "    <tr>\n",
       "      <th>1</th>\n",
       "      <td>2023-02</td>\n",
       "      <td>54.90</td>\n",
       "      <td>105.08</td>\n",
       "      <td>17.10</td>\n",
       "    </tr>\n",
       "    <tr>\n",
       "      <th>2</th>\n",
       "      <td>2023-03</td>\n",
       "      <td>60.65</td>\n",
       "      <td>133.22</td>\n",
       "      <td>21.16</td>\n",
       "    </tr>\n",
       "    <tr>\n",
       "      <th>3</th>\n",
       "      <td>2023-04</td>\n",
       "      <td>60.63</td>\n",
       "      <td>130.69</td>\n",
       "      <td>34.87</td>\n",
       "    </tr>\n",
       "    <tr>\n",
       "      <th>4</th>\n",
       "      <td>2023-05</td>\n",
       "      <td>55.86</td>\n",
       "      <td>116.62</td>\n",
       "      <td>37.56</td>\n",
       "    </tr>\n",
       "  </tbody>\n",
       "</table>\n",
       "</div>"
      ],
      "text/plain": [
       "     Month  Water Bill  Electric Bill  Gas Bill\n",
       "0  2023-01       45.70         112.85     25.56\n",
       "1  2023-02       54.90         105.08     17.10\n",
       "2  2023-03       60.65         133.22     21.16\n",
       "3  2023-04       60.63         130.69     34.87\n",
       "4  2023-05       55.86         116.62     37.56"
      ]
     },
     "execution_count": 4,
     "metadata": {},
     "output_type": "execute_result"
    }
   ],
   "source": [
    "import pandas as pd\n",
    "import random\n",
    "import csv\n",
    "from datetime import datetime\n",
    "\n",
    "# Define utility bill ranges\n",
    "water_bill_range = (40, 70)\n",
    "electric_bill_range = (100, 150)\n",
    "gas_bill_range = (15, 40)\n",
    "\n",
    "# Generate data for each month of 2023\n",
    "def generate_utility_expenses(year=2023):\n",
    "    expenses = []\n",
    "    for month in range(1, 13):  # Loop through months\n",
    "        water_bill = round(random.uniform(*water_bill_range), 2)\n",
    "        electric_bill = round(random.uniform(*electric_bill_range), 2)\n",
    "        gas_bill = round(random.uniform(*gas_bill_range), 2)\n",
    "\n",
    "        # Create a valid datetime object for the given month\n",
    "        date_for_month = datetime(year, month, 1)\n",
    "        \n",
    "        expenses.append({\n",
    "            \"Month\": date_for_month.strftime(\"%Y-%m\"),\n",
    "            \"Water Bill\": water_bill,\n",
    "            \"Electric Bill\": electric_bill,\n",
    "            \"Gas Bill\": gas_bill\n",
    "        })\n",
    "    return expenses\n",
    "\n",
    "# Generate the utility expenses\n",
    "utility_expenses = generate_utility_expenses()\n",
    "\n",
    "\n",
    "# Convert the list of dictionaries to a pandas DataFrame\n",
    "utility_expenses_df = pd.DataFrame(utility_expenses)\n",
    "\n",
    "# Use .head() to view the first 5 rows\n",
    "utility_expenses_df.head()"
   ]
  },
  {
   "cell_type": "code",
   "execution_count": 6,
   "id": "0ecd24f1-e4ce-453f-b718-721481b2c60b",
   "metadata": {},
   "outputs": [],
   "source": [
    "# Save the DataFrame to a CSV file\n",
    "utility_expenses_df.to_csv('FakeExpenses-Utilities.csv', index=False)"
   ]
  },
  {
   "cell_type": "code",
   "execution_count": null,
   "id": "d30b8dcb-eb6f-42e5-b94b-259835c7919f",
   "metadata": {},
   "outputs": [],
   "source": []
  }
 ],
 "metadata": {
  "kernelspec": {
   "display_name": "Python 3 (ipykernel)",
   "language": "python",
   "name": "python3"
  },
  "language_info": {
   "codemirror_mode": {
    "name": "ipython",
    "version": 3
   },
   "file_extension": ".py",
   "mimetype": "text/x-python",
   "name": "python",
   "nbconvert_exporter": "python",
   "pygments_lexer": "ipython3",
   "version": "3.12.4"
  }
 },
 "nbformat": 4,
 "nbformat_minor": 5
}
